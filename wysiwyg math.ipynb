{
 "cells": [
  {
   "cell_type": "code",
   "execution_count": 1,
   "metadata": {},
   "outputs": [],
   "source": [
    "from sympy import tan, lambdify\n",
    "from collections.abc import Iterable\n",
    "\n",
    "\n",
    "def iterable(v, *, atomic_str=True):\n",
    "    return isinstance(v, Iterable) and (not isinstance(v, str) if atomic_str else True)\n",
    "\n",
    "\n",
    "class Equation():\n",
    "    def __init__(self, name):\n",
    "        self.name = name\n",
    "    def __getitem__(self, values):\n",
    "        return self.func(*values)\n",
    "    def __setitem__(self, vars, expr):\n",
    "        self.expr = expr\n",
    "        self.vars = vars\n",
    "        self.func = lambdify(self.vars, self.expr)\n",
    "    def __repr__(self):\n",
    "        try:\n",
    "            return f\"{self.name}[{repr(self.vars)[1:-1]}] = {self.expr!r}\"\n",
    "        except AttributeError:\n",
    "            return f\"{type(self).__name__}({self.name!r})\"\n",
    "\n",
    "combo7 = Equation(\"combo_7\")"
   ]
  },
  {
   "cell_type": "code",
   "execution_count": 2,
   "metadata": {},
   "outputs": [],
   "source": [
    "from handcalcs import render\n",
    "import numpy as np\n",
    "from sympy.abc import *"
   ]
  },
  {
   "cell_type": "code",
   "execution_count": 3,
   "metadata": {},
   "outputs": [
    {
     "data": {
      "text/latex": [
       "\\[\n",
       "\\begin{aligned}\n",
       "combo7[D, W] &= 0.6 \\cdot D + 0.6 \\cdot W\\;\\;\\textrm{(wind uplift load combination)}\n",
       "\\end{aligned}\n",
       "\\]"
      ],
      "text/plain": [
       "<IPython.core.display.Latex object>"
      ]
     },
     "metadata": {},
     "output_type": "display_data"
    }
   ],
   "source": [
    "%%render\n",
    "# Symbolic\n",
    "\n",
    "combo7[D, W] = 0.6 * D + 0.6 * W  # wind uplift load combination"
   ]
  },
  {
   "cell_type": "code",
   "execution_count": 4,
   "metadata": {},
   "outputs": [
    {
     "data": {
      "text/latex": [
       "\\[\n",
       "\\begin{aligned}\n",
       "result &= True\\;\\;\\textrm{(load combo result)}\n",
       "\\end{aligned}\n",
       "\\]"
      ],
      "text/plain": [
       "<IPython.core.display.Latex object>"
      ]
     },
     "metadata": {},
     "output_type": "display_data"
    }
   ],
   "source": [
    "%%render\n",
    "\n",
    "result = combo7[50, 50] > 0  # load combo result"
   ]
  },
  {
   "cell_type": "code",
   "execution_count": 5,
   "metadata": {},
   "outputs": [
    {
     "data": {
      "text/latex": [
       "\\[\n",
       "\\begin{aligned}\n",
       "result &= [ True  True]\\;\\;\\textrm{(load combo result)}\n",
       "\\end{aligned}\n",
       "\\]"
      ],
      "text/plain": [
       "<IPython.core.display.Latex object>"
      ]
     },
     "metadata": {},
     "output_type": "display_data"
    }
   ],
   "source": [
    "%%render\n",
    "\n",
    "result = combo7[np.array([100, 200]), np.array([100, 200])] > 0 # load combo result"
   ]
  },
  {
   "cell_type": "code",
   "execution_count": 6,
   "metadata": {},
   "outputs": [
    {
     "data": {
      "text/latex": [
       "\\[\n",
       "\\begin{aligned}\n",
       "W &= -15 &D &= 20\n",
       "\\end{aligned}\n",
       "\\]"
      ],
      "text/plain": [
       "<IPython.core.display.Latex object>"
      ]
     },
     "metadata": {},
     "output_type": "display_data"
    }
   ],
   "source": [
    "%%render\n",
    "# Parameters\n",
    "W = -15\n",
    "D = 20"
   ]
  },
  {
   "cell_type": "code",
   "execution_count": 7,
   "metadata": {},
   "outputs": [
    {
     "ename": "SyntaxError",
     "evalue": "invalid syntax (<lambdifygenerated-2>, line 1)",
     "output_type": "error",
     "traceback": [
      "Traceback \u001b[0;36m(most recent call last)\u001b[0m:\n",
      "  File \u001b[1;32m\"/home/ricky/venvs/math/lib/python3.7/site-packages/IPython/core/interactiveshell.py\"\u001b[0m, line \u001b[1;32m3343\u001b[0m, in \u001b[1;35mrun_code\u001b[0m\n    exec(code_obj, self.user_global_ns, self.user_ns)\n",
      "  File \u001b[1;32m\"<ipython-input-7-71206726a8ae>\"\u001b[0m, line \u001b[1;32m3\u001b[0m, in \u001b[1;35m<module>\u001b[0m\n    combo7[D, W] = 0.6 * D + 0.6 * W  # wind uplift load combination\n",
      "  File \u001b[1;32m\"<ipython-input-1-66f69f4a81ae>\"\u001b[0m, line \u001b[1;32m17\u001b[0m, in \u001b[1;35m__setitem__\u001b[0m\n    self.func = lambdify(self.vars, self.expr)\n",
      "\u001b[0;36m  File \u001b[0;32m\"/home/ricky/venvs/math/lib/python3.7/site-packages/sympy/utilities/lambdify.py\"\u001b[0;36m, line \u001b[0;32m853\u001b[0;36m, in \u001b[0;35mlambdify\u001b[0;36m\u001b[0m\n\u001b[0;31m    c = compile(funcstr, filename, 'exec')\u001b[0m\n",
      "\u001b[0;36m  File \u001b[0;32m\"<lambdifygenerated-2>\"\u001b[0;36m, line \u001b[0;32m1\u001b[0m\n\u001b[0;31m    def _lambdifygenerated(20, -15):\u001b[0m\n\u001b[0m                            ^\u001b[0m\n\u001b[0;31mSyntaxError\u001b[0m\u001b[0;31m:\u001b[0m invalid syntax\n"
     ]
    },
    {
     "data": {
      "text/latex": [
       "\\[\n",
       "\\begin{aligned}\n",
       "combo7[D, W] &= 0.6 \\cdot D + 0.6 \\cdot W\\;\\;\\textrm{(wind uplift load combination)}\n",
       "\\end{aligned}\n",
       "\\]"
      ],
      "text/plain": [
       "<IPython.core.display.Latex object>"
      ]
     },
     "metadata": {},
     "output_type": "display_data"
    }
   ],
   "source": [
    "%%render\n",
    "# Symbolic\n",
    "\n",
    "combo7[D, W] = 0.6 * D + 0.6 * W  # wind uplift load combination"
   ]
  },
  {
   "cell_type": "code",
   "execution_count": null,
   "metadata": {},
   "outputs": [],
   "source": []
  }
 ],
 "metadata": {
  "kernelspec": {
   "display_name": "Python 3",
   "language": "python",
   "name": "python3"
  },
  "language_info": {
   "codemirror_mode": {
    "name": "ipython",
    "version": 3
   },
   "file_extension": ".py",
   "mimetype": "text/x-python",
   "name": "python",
   "nbconvert_exporter": "python",
   "pygments_lexer": "ipython3",
   "version": "3.7.3"
  }
 },
 "nbformat": 4,
 "nbformat_minor": 4
}
