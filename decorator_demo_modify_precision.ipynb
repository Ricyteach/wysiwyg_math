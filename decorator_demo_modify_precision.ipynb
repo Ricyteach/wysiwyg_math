{
 "cells": [
  {
   "cell_type": "code",
   "execution_count": 1,
   "metadata": {
    "tags": []
   },
   "outputs": [],
   "source": [
    "from handcalcs import render\n",
    "import numpy as np\n",
    "import eqn_lib"
   ]
  },
  {
   "cell_type": "code",
   "execution_count": 2,
   "metadata": {
    "tags": []
   },
   "outputs": [],
   "source": [
    "ar = np.array([1, 2.67, 3, 4])"
   ]
  },
  {
   "cell_type": "code",
   "execution_count": 3,
   "metadata": {
    "tags": []
   },
   "outputs": [
    {
     "data": {
      "text/latex": [
       "\\[\n",
       "\\begin{aligned}\n",
       "\\mathrm{LC1} &= 1.4 \\cdot \\mathrm{DL}  = 1.4 \\cdot 2 &= 2.8  \n",
       "\\\\[10pt]\n",
       "\\mathrm{LC2a} &= 1.25 \\cdot \\mathrm{DL} + 1.5 \\cdot \\mathrm{LL}  = 1.25 \\cdot 2 + 1.5 \\cdot [1.0,\\ 2.7,\\ 3.0,\\ 4.0] &= [4.0,\\ 6.5,\\ 7.0,\\ 8.5]  \n",
       "\\\\[10pt]\n",
       "\\mathrm{LC2b} &= 1.25 \\cdot \\mathrm{DL} + 1.5 \\cdot \\mathrm{LL} + 0.5 \\cdot \\mathrm{SL}  = 1.25 \\cdot 2 + 1.5 \\cdot [1.0,\\ 2.7,\\ 3.0,\\ 4.0] + 0.5 \\cdot 3.5 &= [5.8,\\ 8.3,\\ 8.8,\\ 10.2]  \n",
       "\\\\[10pt]\n",
       "\\mathrm{LC3a} &= 1.25 \\cdot \\mathrm{DL} + 1.5 \\cdot \\mathrm{SL}  = 1.25 \\cdot 2 + 1.5 \\cdot 3.5 &= 7.8  \n",
       "\\\\[10pt]\n",
       "\\mathrm{LC3b} &= 1.25 \\cdot \\mathrm{DL} + 1.5 \\cdot \\mathrm{SL} + 0.5 \\cdot \\mathrm{LL}  = 1.25 \\cdot 2 + 1.5 \\cdot 3.5 + 0.5 \\cdot [1.0,\\ 2.7,\\ 3.0,\\ 4.0] &= [8.2,\\ 9.1,\\ 9.2,\\ 9.8]  \n",
       "\\end{aligned}\n",
       "\\]"
      ],
      "text/plain": [
       "<IPython.core.display.Latex object>"
      ]
     },
     "metadata": {},
     "output_type": "display_data"
    }
   ],
   "source": [
    "results = eqn_lib.NBCC2015LC(DL=2, LL=ar, SL = 3.5)"
   ]
  },
  {
   "cell_type": "code",
   "execution_count": 4,
   "metadata": {
    "tags": []
   },
   "outputs": [
    {
     "data": {
      "text/latex": [
       "\\[\n",
       "\\begin{aligned}\n",
       "\\mathrm{results} &= \\mathrm{eqn}_{lib.NBCC2015LC} { \\left( \\mathrm{DL} &= 2 ,\\  \\mathrm{LL} &= \\mathrm{ar} ,\\  \\mathrm{SL} &= 3.5 \\right) } &= {'DL': 2, 'SDL': 0, 'SL': 3.5, 'LL': array([1.  , 2.67, 3.  , 4.  ]), 'WL': 0, 'EL': 0, 'LC1': 2.8, 'LC2a': array([4.   , 6.505, 7.   , 8.5  ]), 'LC2b': array([ 5.75 ,  8.255,  8.75 , 10.25 ]), 'LC3a': 7.75, 'LC3b': array([8.25 , 9.085, 9.25 , 9.75 ])}  \n",
       "\\end{aligned}\n",
       "\\]"
      ],
      "text/plain": [
       "<IPython.core.display.Latex object>"
      ]
     },
     "metadata": {},
     "output_type": "display_data"
    }
   ],
   "source": [
    "%%render 1\n",
    "results = eqn_lib.NBCC2015LC(DL=2, LL=ar, SL = 3.5)"
   ]
  },
  {
   "cell_type": "code",
   "execution_count": null,
   "metadata": {},
   "outputs": [],
   "source": []
  }
 ],
 "metadata": {
  "kernelspec": {
   "display_name": "Python 3 (ipykernel)",
   "language": "python",
   "name": "python3"
  },
  "language_info": {
   "codemirror_mode": {
    "name": "ipython",
    "version": 3
   },
   "file_extension": ".py",
   "mimetype": "text/x-python",
   "name": "python",
   "nbconvert_exporter": "python",
   "pygments_lexer": "ipython3",
   "version": "3.11.5"
  }
 },
 "nbformat": 4,
 "nbformat_minor": 4
}
